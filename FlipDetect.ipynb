{
 "cells": [
  {
   "cell_type": "code",
   "execution_count": 2,
   "id": "2ced14c4",
   "metadata": {},
   "outputs": [],
   "source": [
    "import os\n",
    "import numpy as np\n",
    "import tensorflow as tf\n",
    "from tensorflow.keras.preprocessing.image import load_img, img_to_array\n",
    "from sklearn.model_selection import train_test_split\n",
    "from tensorflow.keras.utils import to_categorical\n",
    "from tensorflow.keras.layers import Conv2D, MaxPooling2D, Flatten, Dense\n",
    "from sklearn.metrics import f1_score\n",
    "from tensorflow.keras.models import Model"
   ]
  },
  {
   "cell_type": "code",
   "execution_count": 3,
   "id": "be3e1c6a",
   "metadata": {},
   "outputs": [],
   "source": [
    "# Set the image and model parameters\n",
    "image_width, image_height = 128, 128\n",
    "num_classes = 2\n",
    "batch_size = 16\n",
    "epochs = 10"
   ]
  },
  {
   "cell_type": "code",
   "execution_count": 4,
   "id": "9c5f7105",
   "metadata": {},
   "outputs": [],
   "source": [
    "# Paths to your data directories\n",
    "image_dir = r\"C:\\Users\\MSD\\Documents\\Datasets\\MonReader\\images\\images\"\n",
    "training_dir = os.path.join(image_dir, 'training')\n",
    "testing_dir = os.path.join(image_dir, 'testing')"
   ]
  },
  {
   "cell_type": "code",
   "execution_count": 5,
   "id": "d6fe6f6d",
   "metadata": {},
   "outputs": [],
   "source": [
    "# Load and preprocess images\n",
    "def preprocess_image(image_path):\n",
    "    img = load_img(image_path, target_size=(image_width, image_height))\n",
    "    img = img_to_array(img) / 255.0  # Normalize pixel values\n",
    "    return img\n",
    "\n",
    "def load_images_from_directory(directory):\n",
    "    images = []\n",
    "    labels = []\n",
    "    for label_dir in ['flip', 'notflip']:\n",
    "        class_dir = os.path.join(directory, label_dir)\n",
    "        class_label = 1 if label_dir == 'flip' else 0\n",
    "        if not os.path.exists(class_dir):\n",
    "            print(f\"Directory does not exist: {class_dir}\")\n",
    "            continue\n",
    "        for file in os.listdir(class_dir):\n",
    "            if file.endswith('.jpg') or file.endswith('.png'):\n",
    "                img_path = os.path.join(class_dir, file)\n",
    "                img = preprocess_image(img_path)\n",
    "                images.append(img)\n",
    "                labels.append(class_label)\n",
    "    return np.array(images), np.array(labels)"
   ]
  },
  {
   "cell_type": "code",
   "execution_count": 6,
   "id": "a84f5932",
   "metadata": {},
   "outputs": [],
   "source": [
    "# Load datasets\n",
    "X_train, y_train = load_images_from_directory(training_dir)\n",
    "X_test, y_test = load_images_from_directory(testing_dir)"
   ]
  },
  {
   "cell_type": "code",
   "execution_count": 7,
   "id": "a4abdee5",
   "metadata": {},
   "outputs": [],
   "source": [
    "# Convert labels to categorical\n",
    "y_train = to_categorical(y_train, num_classes)\n",
    "y_test = to_categorical(y_test, num_classes)"
   ]
  },
  {
   "cell_type": "code",
   "execution_count": 8,
   "id": "e80136f9",
   "metadata": {},
   "outputs": [],
   "source": [
    "# Split training set to include a validation set\n",
    "X_train, X_val, y_train, y_val = train_test_split(X_train, y_train, test_size=0.2, random_state=42)"
   ]
  },
  {
   "cell_type": "code",
   "execution_count": 9,
   "id": "29e4aa4a",
   "metadata": {},
   "outputs": [],
   "source": [
    "# Building the CNN model\n",
    "inputs = tf.keras.Input(shape=(image_width, image_height, 3))\n",
    "x = Conv2D(32, (3, 3), activation='relu')(inputs)\n",
    "x = MaxPooling2D((2, 2))(x)\n",
    "x = Conv2D(64, (3, 3), activation='relu')(x)\n",
    "x = MaxPooling2D((2, 2))(x)\n",
    "x = Conv2D(128, (3, 3), activation='relu')(x)\n",
    "x = MaxPooling2D((2, 2))(x)\n",
    "x = Flatten()(x)\n",
    "x = Dense(64, activation='relu')(x)\n",
    "outputs = Dense(num_classes, activation='softmax')(x)\n",
    "model = Model(inputs=inputs, outputs=outputs)"
   ]
  },
  {
   "cell_type": "code",
   "execution_count": 10,
   "id": "dbc21f03",
   "metadata": {},
   "outputs": [],
   "source": [
    "# Compile the model\n",
    "model.compile(optimizer='adam', loss='categorical_crossentropy', metrics=['accuracy'])"
   ]
  },
  {
   "cell_type": "code",
   "execution_count": 11,
   "id": "46c4112d",
   "metadata": {},
   "outputs": [
    {
     "name": "stdout",
     "output_type": "stream",
     "text": [
      "Epoch 1/10\n",
      "\u001b[1m120/120\u001b[0m \u001b[32m━━━━━━━━━━━━━━━━━━━━\u001b[0m\u001b[37m\u001b[0m \u001b[1m3s\u001b[0m 20ms/step - accuracy: 0.5560 - loss: 0.6866 - val_accuracy: 0.8058 - val_loss: 0.4448\n",
      "Epoch 2/10\n",
      "\u001b[1m120/120\u001b[0m \u001b[32m━━━━━━━━━━━━━━━━━━━━\u001b[0m\u001b[37m\u001b[0m \u001b[1m2s\u001b[0m 19ms/step - accuracy: 0.8407 - loss: 0.3941 - val_accuracy: 0.9165 - val_loss: 0.2234\n",
      "Epoch 3/10\n",
      "\u001b[1m120/120\u001b[0m \u001b[32m━━━━━━━━━━━━━━━━━━━━\u001b[0m\u001b[37m\u001b[0m \u001b[1m2s\u001b[0m 19ms/step - accuracy: 0.9250 - loss: 0.1755 - val_accuracy: 0.9436 - val_loss: 0.1779\n",
      "Epoch 4/10\n",
      "\u001b[1m120/120\u001b[0m \u001b[32m━━━━━━━━━━━━━━━━━━━━\u001b[0m\u001b[37m\u001b[0m \u001b[1m2s\u001b[0m 19ms/step - accuracy: 0.9717 - loss: 0.1014 - val_accuracy: 0.9854 - val_loss: 0.0770\n",
      "Epoch 5/10\n",
      "\u001b[1m120/120\u001b[0m \u001b[32m━━━━━━━━━━━━━━━━━━━━\u001b[0m\u001b[37m\u001b[0m \u001b[1m2s\u001b[0m 19ms/step - accuracy: 0.9658 - loss: 0.0813 - val_accuracy: 0.9645 - val_loss: 0.0989\n",
      "Epoch 6/10\n",
      "\u001b[1m120/120\u001b[0m \u001b[32m━━━━━━━━━━━━━━━━━━━━\u001b[0m\u001b[37m\u001b[0m \u001b[1m2s\u001b[0m 19ms/step - accuracy: 0.9849 - loss: 0.0458 - val_accuracy: 0.9687 - val_loss: 0.0780\n",
      "Epoch 7/10\n",
      "\u001b[1m120/120\u001b[0m \u001b[32m━━━━━━━━━━━━━━━━━━━━\u001b[0m\u001b[37m\u001b[0m \u001b[1m2s\u001b[0m 18ms/step - accuracy: 0.9885 - loss: 0.0285 - val_accuracy: 0.9186 - val_loss: 0.2473\n",
      "Epoch 8/10\n",
      "\u001b[1m120/120\u001b[0m \u001b[32m━━━━━━━━━━━━━━━━━━━━\u001b[0m\u001b[37m\u001b[0m \u001b[1m2s\u001b[0m 20ms/step - accuracy: 0.9867 - loss: 0.0447 - val_accuracy: 0.9854 - val_loss: 0.0362\n",
      "Epoch 9/10\n",
      "\u001b[1m120/120\u001b[0m \u001b[32m━━━━━━━━━━━━━━━━━━━━\u001b[0m\u001b[37m\u001b[0m \u001b[1m2s\u001b[0m 19ms/step - accuracy: 0.9992 - loss: 0.0057 - val_accuracy: 0.9937 - val_loss: 0.0203\n",
      "Epoch 10/10\n",
      "\u001b[1m120/120\u001b[0m \u001b[32m━━━━━━━━━━━━━━━━━━━━\u001b[0m\u001b[37m\u001b[0m \u001b[1m2s\u001b[0m 19ms/step - accuracy: 0.9942 - loss: 0.0166 - val_accuracy: 0.9749 - val_loss: 0.0944\n"
     ]
    }
   ],
   "source": [
    "# Train the model\n",
    "history = model.fit(X_train, y_train, batch_size=batch_size, epochs=epochs, validation_data=(X_val, y_val))"
   ]
  },
  {
   "cell_type": "code",
   "execution_count": 12,
   "id": "607553ef",
   "metadata": {},
   "outputs": [
    {
     "name": "stdout",
     "output_type": "stream",
     "text": [
      "\u001b[1m19/19\u001b[0m \u001b[32m━━━━━━━━━━━━━━━━━━━━\u001b[0m\u001b[37m\u001b[0m \u001b[1m0s\u001b[0m 14ms/step\n",
      "F1 Score: 0.9715242881072027\n"
     ]
    }
   ],
   "source": [
    "# Evaluate the model\n",
    "predictions = model.predict(X_test)\n",
    "predictions = np.argmax(predictions, axis=1)\n",
    "y_test = np.argmax(y_test, axis=1)\n",
    "f1 = f1_score(y_test, predictions, average='micro')\n",
    "print(\"F1 Score:\", f1)"
   ]
  },
  {
   "cell_type": "code",
   "execution_count": 13,
   "id": "12916035",
   "metadata": {},
   "outputs": [
    {
     "name": "stderr",
     "output_type": "stream",
     "text": [
      "WARNING:absl:You are saving your model as an HDF5 file via `model.save()` or `keras.saving.save_model(model)`. This file format is considered legacy. We recommend using instead the native Keras format, e.g. `model.save('my_model.keras')` or `keras.saving.save_model(model, 'my_model.keras')`. \n"
     ]
    }
   ],
   "source": [
    "# Save the model\n",
    "model.save('monreader_page_flip_detection_model.h5')"
   ]
  }
 ],
 "metadata": {
  "kernelspec": {
   "display_name": "Python 3 (ipykernel)",
   "language": "python",
   "name": "python3"
  },
  "language_info": {
   "codemirror_mode": {
    "name": "ipython",
    "version": 3
   },
   "file_extension": ".py",
   "mimetype": "text/x-python",
   "name": "python",
   "nbconvert_exporter": "python",
   "pygments_lexer": "ipython3",
   "version": "3.11.7"
  }
 },
 "nbformat": 4,
 "nbformat_minor": 5
}
